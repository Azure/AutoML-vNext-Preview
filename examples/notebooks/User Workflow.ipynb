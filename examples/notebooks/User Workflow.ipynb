{
 "cells": [
  {
   "cell_type": "markdown",
   "id": "e0d19096",
   "metadata": {},
   "source": [
    "First we fetch the data"
   ]
  },
  {
   "cell_type": "code",
   "execution_count": null,
   "id": "b52fb9cf",
   "metadata": {},
   "outputs": [],
   "source": [
    "import shap\n",
    "from sklearn.model_selection import train_test_split\n",
    "\n",
    "\n",
    "X, y = shap.datasets.adult()\n",
    "print(\"Data fetched\")\n",
    "target_feature = \"income\"\n",
    "y = [1 if y_i else 0 for y_i in y]\n",
    "\n",
    "full_data = X.copy()\n",
    "full_data[target_feature] = y\n",
    "\n",
    "data_train, data_test = train_test_split(\n",
    "    full_data, test_size=4000, random_state=96132, stratify=full_data[target_feature]\n",
    ")\n",
    "\n",
    "# Don't write out the row indices to the CSV.....\n",
    "print(\"Saving to files\")\n",
    "data_train.to_parquet(\"adult_train.parquet\", index=False)\n",
    "data_test.to_parquet(\"adult_test.parquet\", index=False)"
   ]
  },
  {
   "cell_type": "markdown",
   "id": "5e045950",
   "metadata": {},
   "source": [
    "Train a simple model on the data:"
   ]
  },
  {
   "cell_type": "code",
   "execution_count": null,
   "id": "8ce4d901",
   "metadata": {},
   "outputs": [],
   "source": [
    "y_train = data_train[target_feature]\n",
    "X_train = data_train.drop(labels=target_feature, axis=\"columns\")"
   ]
  },
  {
   "cell_type": "code",
   "execution_count": null,
   "id": "6e22716b",
   "metadata": {},
   "outputs": [],
   "source": [
    "import mlflow\n",
    "import mlflow.sklearn\n",
    "\n",
    "import pandas as pd\n",
    "from sklearn.linear_model import LogisticRegression\n",
    "\n",
    "model = LogisticRegression(solver=\"liblinear\")\n",
    "model.fit(X_train, y_train)"
   ]
  },
  {
   "cell_type": "markdown",
   "id": "992be15f",
   "metadata": {},
   "source": [
    "Now create an MLClient:"
   ]
  },
  {
   "cell_type": "code",
   "execution_count": null,
   "id": "14f8577b",
   "metadata": {},
   "outputs": [],
   "source": [
    "subscription_id = '589c7ae9-223e-45e3-a191-98433e0821a9'\n",
    "resource_group = 'amlisdkv2-rg-1638871354'\n",
    "workspace_name = 'amlisdkv21638871354'"
   ]
  },
  {
   "cell_type": "code",
   "execution_count": null,
   "id": "efe49cc4",
   "metadata": {},
   "outputs": [],
   "source": [
    "from azure.ml import MLClient\n",
    "from azure.identity import DefaultAzureCredential\n",
    "ml_client = MLClient(credential=DefaultAzureCredential(exclude_shared_token_cache_credential=True),\n",
    "                     subscription_id=subscription_id,\n",
    "                     resource_group_name=resource_group,\n",
    "                     workspace_name=workspace_name,\n",
    "                     logging_enable=True)"
   ]
  },
  {
   "cell_type": "markdown",
   "id": "1af9924f",
   "metadata": {},
   "source": [
    "Upload the datasets"
   ]
  },
  {
   "cell_type": "code",
   "execution_count": null,
   "id": "eb43cfa8",
   "metadata": {},
   "outputs": [],
   "source": [
    "from azure.ml.entities import Data\n",
    "\n",
    "train_dataset = Data(\n",
    "    name=\"Adult_Train_from_Notebook\",\n",
    "    local_path=\"adult_train.parquet\",\n",
    "    version=\"1\"\n",
    ")"
   ]
  },
  {
   "cell_type": "code",
   "execution_count": null,
   "id": "0ae13088",
   "metadata": {},
   "outputs": [],
   "source": [
    "ml_client.data.create_or_update(train_dataset)"
   ]
  },
  {
   "cell_type": "code",
   "execution_count": null,
   "id": "552abe1a",
   "metadata": {},
   "outputs": [],
   "source": [
    "test_dataset = Data(\n",
    "    name=\"Adult_Test_from_Notebook\",\n",
    "    local_path=\"adult_test.parquet\",\n",
    "    version=\"1\"\n",
    ")\n",
    "ml_client.data.create_or_update(test_dataset)"
   ]
  },
  {
   "cell_type": "markdown",
   "id": "4dc9533d",
   "metadata": {},
   "source": [
    "Now, register the model:"
   ]
  },
  {
   "cell_type": "code",
   "execution_count": null,
   "id": "6aaac6d8",
   "metadata": {},
   "outputs": [],
   "source": [
    "from azureml.core import Workspace\n",
    "\n",
    "\n",
    "v1_workspace = Workspace(subscription_id, resource_group, workspace_name, auth=None)\n",
    "\n",
    "mlflow.set_tracking_uri(v1_workspace.get_mlflow_tracking_uri())\n",
    "mlflow.set_experiment(\"nb_model_creation\")"
   ]
  },
  {
   "cell_type": "code",
   "execution_count": null,
   "id": "ada51a00",
   "metadata": {},
   "outputs": [],
   "source": [
    "mlflow.sklearn.log_model(sk_model=model, registered_model_name=\"nb_classifier_mlflow\", artifact_path='my_path')"
   ]
  },
  {
   "cell_type": "code",
   "execution_count": null,
   "id": "3e852f79",
   "metadata": {},
   "outputs": [],
   "source": [
    "mlflow.__version__"
   ]
  },
  {
   "cell_type": "code",
   "execution_count": null,
   "id": "20b924cf",
   "metadata": {},
   "outputs": [],
   "source": []
  }
 ],
 "metadata": {
  "kernelspec": {
   "display_name": "Python 3",
   "language": "python",
   "name": "python3"
  },
  "language_info": {
   "codemirror_mode": {
    "name": "ipython",
    "version": 3
   },
   "file_extension": ".py",
   "mimetype": "text/x-python",
   "name": "python",
   "nbconvert_exporter": "python",
   "pygments_lexer": "ipython3",
   "version": "3.8.12"
  }
 },
 "nbformat": 4,
 "nbformat_minor": 5
}
