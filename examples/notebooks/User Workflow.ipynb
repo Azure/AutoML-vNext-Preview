{
 "cells": [
  {
   "cell_type": "markdown",
   "id": "e0d19096",
   "metadata": {},
   "source": [
    "First we fetch the data"
   ]
  },
  {
   "cell_type": "code",
   "execution_count": 1,
   "id": "b52fb9cf",
   "metadata": {},
   "outputs": [
    {
     "name": "stdout",
     "output_type": "stream",
     "text": [
      "Data fetched\n",
      "Saving to files\n"
     ]
    }
   ],
   "source": [
    "import shap\n",
    "from sklearn.model_selection import train_test_split\n",
    "\n",
    "\n",
    "X, y = shap.datasets.adult()\n",
    "print(\"Data fetched\")\n",
    "target_feature = \"income\"\n",
    "y = [1 if y_i else 0 for y_i in y]\n",
    "\n",
    "full_data = X.copy()\n",
    "full_data[target_feature] = y\n",
    "\n",
    "data_train, data_test = train_test_split(\n",
    "    full_data, test_size=4000, random_state=96132, stratify=full_data[target_feature]\n",
    ")\n",
    "\n",
    "# Don't write out the row indices to the CSV.....\n",
    "print(\"Saving to files\")\n",
    "data_train.to_parquet(\"adult_train.parquet\", index=False)\n",
    "data_test.to_parquet(\"adult_test.parquet\", index=False)"
   ]
  },
  {
   "cell_type": "markdown",
   "id": "992be15f",
   "metadata": {},
   "source": [
    "Now create an MLClient:"
   ]
  },
  {
   "cell_type": "code",
   "execution_count": 2,
   "id": "14f8577b",
   "metadata": {},
   "outputs": [],
   "source": [
    "subscription_id = '589c7ae9-223e-45e3-a191-98433e0821a9'\n",
    "resource_group = 'amlisdkv2-rg-1638957740'\n",
    "workspace_name = 'amlisdkv21638957740'"
   ]
  },
  {
   "cell_type": "code",
   "execution_count": 3,
   "id": "efe49cc4",
   "metadata": {},
   "outputs": [],
   "source": [
    "from azure.ml import MLClient\n",
    "from azure.identity import DefaultAzureCredential\n",
    "ml_client = MLClient(credential=DefaultAzureCredential(exclude_shared_token_cache_credential=True),\n",
    "                     subscription_id=subscription_id,\n",
    "                     resource_group_name=resource_group,\n",
    "                     workspace_name=workspace_name,\n",
    "                     logging_enable=True)"
   ]
  },
  {
   "cell_type": "markdown",
   "id": "1af9924f",
   "metadata": {},
   "source": [
    "Upload the datasets"
   ]
  },
  {
   "cell_type": "code",
   "execution_count": 4,
   "id": "eb43cfa8",
   "metadata": {},
   "outputs": [],
   "source": [
    "from azure.ml.entities import Data\n",
    "\n",
    "train_dataset = Data(\n",
    "    name=\"Adult_Train_from_Notebook\",\n",
    "    local_path=\"adult_train.parquet\",\n",
    "    version=\"1\"\n",
    ")"
   ]
  },
  {
   "cell_type": "code",
   "execution_count": 5,
   "id": "0ae13088",
   "metadata": {},
   "outputs": [
    {
     "name": "stderr",
     "output_type": "stream",
     "text": [
      "Uploading adult_train.parquet: 100%|█████████████████████████████████████████████████| 158k/158k [00:00<00:00, 925kB/s]\n"
     ]
    },
    {
     "data": {
      "text/plain": [
       "Data({'is_anonymous': False, 'auto_increment_version': False, 'name': 'Adult_Train_from_Notebook', 'description': None, 'tags': {}, 'properties': {}, 'id': '/subscriptions/589c7ae9-223e-45e3-a191-98433e0821a9/resourceGroups/amlisdkv2-rg-1638957740/providers/Microsoft.MachineLearningServices/workspaces/amlisdkv21638957740/data/Adult_Train_from_Notebook/versions/1', 'base_path': './', 'creation_context': <azure.ml._restclient.v2021_03_01_preview.models._models_py3.SystemData object at 0x000001C99C78C2E0>, 'serialize': <msrest.serialization.Serializer object at 0x000001C99C784FA0>, 'version': '1', 'local_path': None, 'path': 'LocalUpload/3c08dc2a27945f6adbd2ef2dfe7ab079/adult_train.parquet', 'datastore': '/subscriptions/589c7ae9-223e-45e3-a191-98433e0821a9/resourceGroups/amlisdkv2-rg-1638957740/providers/Microsoft.MachineLearningServices/workspaces/amlisdkv21638957740/datastores/workspaceblobstore'})"
      ]
     },
     "execution_count": 5,
     "metadata": {},
     "output_type": "execute_result"
    }
   ],
   "source": [
    "ml_client.data.create_or_update(train_dataset)"
   ]
  },
  {
   "cell_type": "code",
   "execution_count": 6,
   "id": "552abe1a",
   "metadata": {},
   "outputs": [
    {
     "name": "stderr",
     "output_type": "stream",
     "text": [
      "Uploading adult_test.parquet: 100%|████████████████████████████████████████████████| 31.6k/31.6k [00:00<00:00, 430kB/s]\n"
     ]
    },
    {
     "data": {
      "text/plain": [
       "Data({'is_anonymous': False, 'auto_increment_version': False, 'name': 'Adult_Test_from_Notebook', 'description': None, 'tags': {}, 'properties': {}, 'id': '/subscriptions/589c7ae9-223e-45e3-a191-98433e0821a9/resourceGroups/amlisdkv2-rg-1638957740/providers/Microsoft.MachineLearningServices/workspaces/amlisdkv21638957740/data/Adult_Test_from_Notebook/versions/1', 'base_path': './', 'creation_context': <azure.ml._restclient.v2021_03_01_preview.models._models_py3.SystemData object at 0x000001C99C76EAC0>, 'serialize': <msrest.serialization.Serializer object at 0x000001C99C76E9D0>, 'version': '1', 'local_path': None, 'path': 'LocalUpload/0f2894e892201167f37ded36e2d2d0b2/adult_test.parquet', 'datastore': '/subscriptions/589c7ae9-223e-45e3-a191-98433e0821a9/resourceGroups/amlisdkv2-rg-1638957740/providers/Microsoft.MachineLearningServices/workspaces/amlisdkv21638957740/datastores/workspaceblobstore'})"
      ]
     },
     "execution_count": 6,
     "metadata": {},
     "output_type": "execute_result"
    }
   ],
   "source": [
    "test_dataset = Data(\n",
    "    name=\"Adult_Test_from_Notebook\",\n",
    "    local_path=\"adult_test.parquet\",\n",
    "    version=\"1\"\n",
    ")\n",
    "ml_client.data.create_or_update(test_dataset)"
   ]
  },
  {
   "cell_type": "markdown",
   "id": "4dc9533d",
   "metadata": {},
   "source": [
    "# Creating the Model\n",
    "\n",
    "To simplify the model creation process, we're going to use a pipeline.\n",
    "\n",
    "First, the training script:"
   ]
  },
  {
   "cell_type": "code",
   "execution_count": 8,
   "id": "6aaac6d8",
   "metadata": {},
   "outputs": [
    {
     "name": "stdout",
     "output_type": "stream",
     "text": [
      "Overwriting training_script.py\n"
     ]
    }
   ],
   "source": [
    "%%writefile training_script.py\n",
    "\n",
    "import argparse\n",
    "import os\n",
    "import shutil\n",
    "import tempfile\n",
    "\n",
    "\n",
    "from azureml.core import Run\n",
    "\n",
    "import mlflow\n",
    "import mlflow.sklearn\n",
    "\n",
    "import pandas as pd\n",
    "from sklearn.linear_model import LogisticRegression\n",
    "\n",
    "def parse_args():\n",
    "    # setup arg parser\n",
    "    parser = argparse.ArgumentParser()\n",
    "\n",
    "    # add arguments\n",
    "    parser.add_argument(\"--training_data\", type=str, help=\"Path to training data\")\n",
    "    parser.add_argument(\"--target_column_name\", type=str, help=\"Name of target column\")\n",
    "    parser.add_argument(\"--model_output\", type=str, help=\"Path of output model\")\n",
    "\n",
    "    # parse args\n",
    "    args = parser.parse_args()\n",
    "\n",
    "    # return args\n",
    "    return args\n",
    "\n",
    "\n",
    "def main(args):\n",
    "    current_experiment = Run.get_context().experiment\n",
    "    tracking_uri = current_experiment.workspace.get_mlflow_tracking_uri()\n",
    "    print(\"tracking_uri: {0}\".format(tracking_uri))\n",
    "    mlflow.set_tracking_uri(tracking_uri)\n",
    "    mlflow.set_experiment(current_experiment.name)\n",
    "\n",
    "    # Read in data\n",
    "    print(\"Reading data\")\n",
    "    all_data = pd.read_parquet(args.training_data)\n",
    "\n",
    "    print(\"Extracting X_train, y_train\")\n",
    "    print(\"all_data cols: {0}\".format(all_data.columns))\n",
    "    y_train = all_data[args.target_column_name]\n",
    "    X_train = all_data.drop(labels=args.target_column_name, axis=\"columns\")\n",
    "    print(\"X_train cols: {0}\".format(X_train.columns))\n",
    "\n",
    "    print(\"Training model\")\n",
    "    model = LogisticRegression(solver=\"liblinear\")\n",
    "    model.fit(X_train, y_train)\n",
    "\n",
    "    # print(\"Registering via MLFlow\")\n",
    "    # mlflow.sklearn.log_model(sk_model=model, registered_model_name=\"lr_classifier_mlflow\", artifact_path=\"some_path\")\n",
    "\n",
    "    # Saving model with mlflow\n",
    "    with tempfile.TemporaryDirectory() as td:\n",
    "        print(\"Saving model with MLFlow to temporary directory\")\n",
    "        tmp_output_dir = os.path.join(td, \"my_model_dir\")\n",
    "        mlflow.sklearn.save_model(sk_model=model, path=tmp_output_dir)\n",
    "\n",
    "        print(\"Copying MLFlow model to output path\")\n",
    "        for file_name in os.listdir(tmp_output_dir):\n",
    "            print(\"  Copying: \", file_name)\n",
    "            # As of Python 3.8, copytree will acquire dirs_exist_ok as\n",
    "            # an option, removing the need for listdir\n",
    "            shutil.copy2(src=os.path.join(tmp_output_dir, file_name), dst=os.path.join(args.model_output, file_name))\n",
    "\n",
    "\n",
    "# run script\n",
    "if __name__ == \"__main__\":\n",
    "    # add space in logs\n",
    "    print(\"*\" * 60)\n",
    "    print(\"\\n\\n\")\n",
    "\n",
    "    # parse args\n",
    "    args = parse_args()\n",
    "\n",
    "    # run main function\n",
    "    main(args)\n",
    "\n",
    "    # add space in logs\n",
    "    print(\"*\" * 60)\n",
    "    print(\"\\n\\n\")\n"
   ]
  },
  {
   "cell_type": "markdown",
   "id": "db28ee98",
   "metadata": {},
   "source": [
    "Now, we want to place this into a component:"
   ]
  },
  {
   "cell_type": "code",
   "execution_count": 17,
   "id": "3e852f79",
   "metadata": {},
   "outputs": [
    {
     "data": {
      "text/plain": [
       "CommandComponent({'auto_increment_version': False, 'is_anonymous': False, 'name': 'MyTrainingComponent', 'description': None, 'tags': {}, 'properties': {}, 'id': '/subscriptions/589c7ae9-223e-45e3-a191-98433e0821a9/resourceGroups/amlisdkv2-rg-1638957740/providers/Microsoft.MachineLearningServices/workspaces/amlisdkv21638957740/components/MyTrainingComponent/versions/1', 'base_path': None, 'creation_context': <azure.ml._restclient.v2021_10_01.models._models_py3.SystemData object at 0x000001C99CA2BB50>, 'serialize': <msrest.serialization.Serializer object at 0x000001C99CA38850>, 'command': 'python training_script.py --training_data ${{inputs.training_data}} --target_column_name ${{inputs.target_column_name}} --model_output ${{outputs.model_output}}', 'code': '/subscriptions/589c7ae9-223e-45e3-a191-98433e0821a9/resourceGroups/amlisdkv2-rg-1638957740/providers/Microsoft.MachineLearningServices/workspaces/amlisdkv21638957740/codes/8702f8b6-d966-4546-a9dd-db4133259936/versions/1', 'environment_variables': {}, 'environment': '/subscriptions/589c7ae9-223e-45e3-a191-98433e0821a9/resourceGroups/amlisdkv2-rg-1638957740/providers/Microsoft.MachineLearningServices/workspaces/amlisdkv21638957740/environments/AML-RAI-Environment/versions/1638957740', 'distribution': None, 'resources': OrderedDict([('instance_count', 1)]), 'version': '1', 'schema': 'https://azuremlschemas.azureedge.net/stable/commandComponent.schema.json', 'type': 'command', 'display_name': 'Simple training component', 'is_deterministic': True, 'inputs': {'training_data': {'name': 'training_data', 'optional': 'False', 'type': 'path'}, 'target_column_name': {'name': 'target_column_name', 'optional': 'False', 'type': 'string'}}, 'outputs': {'model_output': {'name': 'model_output', 'type': 'path'}}, 'yaml_str': None, 'other_parameter': {}})"
      ]
     },
     "execution_count": 17,
     "metadata": {},
     "output_type": "execute_result"
    }
   ],
   "source": [
    "from azure.ml.entities import Code, CommandComponent\n",
    "\n",
    "training_code = Code(\n",
    "    local_path='training_script.py'\n",
    ")\n",
    "\n",
    "training_inputs = {\n",
    "    'training_data': { 'type': 'path'},\n",
    "    'target_column_name': { 'type': 'string'}\n",
    "}\n",
    "\n",
    "training_outputs = {\n",
    "    'model_output': { 'type': 'path'}\n",
    "}\n",
    "\n",
    "training_component = CommandComponent(\n",
    "    name=\"MyTrainingComponent\",\n",
    "    version=\"1\",\n",
    "    display_name=\"Simple training component\",\n",
    "    code=training_code,\n",
    "    environment=\"AML-RAI-Environment:1638957740\",\n",
    "    inputs=training_inputs,\n",
    "    outputs=training_outputs,\n",
    "    command=\"python training_script.py \" \\\n",
    "            \"--training_data ${{inputs.training_data}} \" \\\n",
    "            \"--target_column_name ${{inputs.target_column_name}} \" \\\n",
    "            \"--model_output ${{outputs.model_output}}\"\n",
    ")\n",
    "\n",
    "ml_client.components.create_or_update(training_component)"
   ]
  },
  {
   "cell_type": "code",
   "execution_count": null,
   "id": "20b924cf",
   "metadata": {},
   "outputs": [],
   "source": []
  }
 ],
 "metadata": {
  "kernelspec": {
   "display_name": "Python 3",
   "language": "python",
   "name": "python3"
  },
  "language_info": {
   "codemirror_mode": {
    "name": "ipython",
    "version": 3
   },
   "file_extension": ".py",
   "mimetype": "text/x-python",
   "name": "python",
   "nbconvert_exporter": "python",
   "pygments_lexer": "ipython3",
   "version": "3.8.12"
  }
 },
 "nbformat": 4,
 "nbformat_minor": 5
}
