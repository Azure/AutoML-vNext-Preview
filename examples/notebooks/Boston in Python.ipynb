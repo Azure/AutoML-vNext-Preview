{
 "cells": [
  {
   "cell_type": "code",
   "execution_count": null,
   "id": "e4e8c50e",
   "metadata": {},
   "outputs": [],
   "source": [
    "# Had to run from the shell:\n",
    "# ipython kernel install --name \"local-conda-env\" --user\n",
    "#import required libraries\n",
    "from azure.ml import MLClient\n",
    "from azure.ml.entities import ComponentJob, Code, PipelineJob, Dataset, InputDatasetEntry"
   ]
  },
  {
   "cell_type": "code",
   "execution_count": null,
   "id": "e6413186",
   "metadata": {},
   "outputs": [],
   "source": []
  },
  {
   "cell_type": "code",
   "execution_count": null,
   "id": "576005c4",
   "metadata": {},
   "outputs": [],
   "source": [
    "#Enter details of your AML workspace\n",
    "subscription_id = '589c7ae9-223e-45e3-a191-98433e0821a9'\n",
    "resource_group = 'amlisdkv2-rg-1635933774'\n",
    "workspace = 'amlisdkv21635933774'"
   ]
  },
  {
   "cell_type": "code",
   "execution_count": null,
   "id": "74cf2372",
   "metadata": {},
   "outputs": [],
   "source": [
    "#get a handle to the workspace\n",
    "ml_client = MLClient(subscription_id, resource_group, workspace)"
   ]
  },
  {
   "cell_type": "code",
   "execution_count": null,
   "id": "7ec554e2",
   "metadata": {},
   "outputs": [],
   "source": [
    "train_data = Dataset(\n",
    "    paths=['azureml:Boston_Train_PQ:1635933774']\n",
    "    # name=\"Boston_Train_PQ\",\n",
    "    # version=\"1635933774\"\n",
    ")"
   ]
  },
  {
   "cell_type": "code",
   "execution_count": null,
   "id": "2ae08ec4",
   "metadata": {},
   "outputs": [],
   "source": [
    "pipeline_inputs = { \n",
    "    'target_column_name':'y',\n",
    "    'my_training_data': 'azureml:Boston_Train_PQ:1635933774'\n",
    "}"
   ]
  },
  {
   "cell_type": "code",
   "execution_count": null,
   "id": "b216d521",
   "metadata": {},
   "outputs": [],
   "source": []
  },
  {
   "cell_type": "code",
   "execution_count": null,
   "id": "2db514ab",
   "metadata": {},
   "outputs": [],
   "source": [
    "train_job_inputs = {\n",
    "    'target_column_name': '${{inputs.target_column_name}}',\n",
    "    'training_data': '${{inputs.my_training_data}}',\n",
    "    'categorical_features': '[]',\n",
    "    'continuous_features': '[\"CRIM\", \"ZN\", \"INDUS\", \"CHAS\", \"NOX\", \"RM\", \"AGE\",\"DIS\", \"RAD\", \"TAX\", \"PTRATIO\", \"B\", \"LSTAT\"]'\n",
    "}\n",
    "train_job_outputs = {\n",
    "    'trained_model': None\n",
    "}\n",
    "\n",
    "train_job = ComponentJob(\n",
    "    component=\"TrainBostonForRAI:1635933774\",\n",
    "    inputs = train_job_inputs,\n",
    "    outputs=train_job_outputs\n",
    ")"
   ]
  },
  {
   "cell_type": "code",
   "execution_count": null,
   "id": "6665d5bf",
   "metadata": {},
   "outputs": [],
   "source": [
    "pipeline_job = PipelineJob(\n",
    "    description=\"Notebook submitted Boston\",\n",
    "    jobs = {\n",
    "        'train-model-job': train_job\n",
    "    },\n",
    "    inputs=pipeline_inputs,\n",
    "    outputs=train_job_outputs,\n",
    "    compute=\"cpucluster\"\n",
    ")"
   ]
  },
  {
   "cell_type": "code",
   "execution_count": null,
   "id": "b37f9550",
   "metadata": {},
   "outputs": [],
   "source": [
    "#submit the pipeline job\n",
    "returned_job = ml_client.jobs.create_or_update(pipeline_job)\n",
    "#get a URL for the status of the job\n",
    "returned_job.services[\"Studio\"].endpoint"
   ]
  },
  {
   "cell_type": "code",
   "execution_count": null,
   "id": "bec37d40",
   "metadata": {},
   "outputs": [],
   "source": []
  }
 ],
 "metadata": {
  "kernelspec": {
   "display_name": "local-conda-env",
   "language": "python",
   "name": "local-conda-env"
  },
  "language_info": {
   "codemirror_mode": {
    "name": "ipython",
    "version": 3
   },
   "file_extension": ".py",
   "mimetype": "text/x-python",
   "name": "python",
   "nbconvert_exporter": "python",
   "pygments_lexer": "ipython3",
   "version": "3.6.13"
  }
 },
 "nbformat": 4,
 "nbformat_minor": 5
}
