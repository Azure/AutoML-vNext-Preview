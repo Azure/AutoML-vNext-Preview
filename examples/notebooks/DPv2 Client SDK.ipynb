{
 "cells": [
  {
   "cell_type": "code",
   "execution_count": null,
   "id": "1b7394d8",
   "metadata": {},
   "outputs": [],
   "source": [
    "from azure.ml import MLClient"
   ]
  },
  {
   "cell_type": "code",
   "execution_count": null,
   "id": "178ed778",
   "metadata": {},
   "outputs": [],
   "source": [
    "workspace_version_suffix=\"1638784934\"\n",
    "component_dataset_version_suffix=\"1638365672\""
   ]
  },
  {
   "cell_type": "code",
   "execution_count": null,
   "id": "6b6a190e",
   "metadata": {},
   "outputs": [],
   "source": [
    "#Enter details of your AML workspace\n",
    "subscription_id = '589c7ae9-223e-45e3-a191-98433e0821a9'\n",
    "resource_group = f'amlisdkv2-rg-{workspace_version_suffix}'\n",
    "workspace = f'amlisdkv2{workspace_version_suffix}'"
   ]
  },
  {
   "cell_type": "code",
   "execution_count": null,
   "id": "371bc260",
   "metadata": {},
   "outputs": [],
   "source": [
    "#get a handle to the workspace\n",
    "from azure.identity import DefaultAzureCredential\n",
    "ml_client = MLClient(credential=DefaultAzureCredential(exclude_shared_token_cache_credential=True),\n",
    "                     subscription_id=subscription_id,\n",
    "                     resource_group_name=resource_group,\n",
    "                     workspace_name=workspace,\n",
    "                     logging_enable=True)"
   ]
  },
  {
   "cell_type": "code",
   "execution_count": null,
   "id": "d3d91732",
   "metadata": {},
   "outputs": [],
   "source": [
    "# Get to work on our actual SDK\n",
    "from azure_ml_rai._list_rai_runs import list_rai_insights"
   ]
  },
  {
   "cell_type": "code",
   "execution_count": null,
   "id": "480ef9d3",
   "metadata": {},
   "outputs": [],
   "source": [
    "experiment_name = 'Classification_from_Python_1638793014'"
   ]
  },
  {
   "cell_type": "code",
   "execution_count": null,
   "id": "cb4402ca",
   "metadata": {},
   "outputs": [],
   "source": [
    "# We should have had one RAI insight created inside this particular pipeline Job\n",
    "\n",
    "run_ids = list_rai_insights(\n",
    "    ml_client,\n",
    "    experiment_name\n",
    ")\n",
    "\n",
    "print(run_ids)"
   ]
  },
  {
   "cell_type": "code",
   "execution_count": null,
   "id": "4e7a859e",
   "metadata": {},
   "outputs": [],
   "source": [
    "from azure_ml_rai._list_rai_runs import list_components_for_rai_insight"
   ]
  },
  {
   "cell_type": "code",
   "execution_count": null,
   "id": "215fb12a",
   "metadata": {},
   "outputs": [],
   "source": [
    "# And this particular RAI Insight should have one of each of our four components\n",
    "\n",
    "component_run_ids = list_components_for_rai_insight(\n",
    "    ml_client,\n",
    "    experiment_name,\n",
    "    rai_insight_id = run_ids[0]\n",
    ")\n",
    "\n",
    "print(component_run_ids)"
   ]
  },
  {
   "cell_type": "code",
   "execution_count": null,
   "id": "f2fc62d8",
   "metadata": {},
   "outputs": [],
   "source": []
  }
 ],
 "metadata": {
  "kernelspec": {
   "display_name": "Python 3",
   "language": "python",
   "name": "python3"
  },
  "language_info": {
   "codemirror_mode": {
    "name": "ipython",
    "version": 3
   },
   "file_extension": ".py",
   "mimetype": "text/x-python",
   "name": "python",
   "nbconvert_exporter": "python",
   "pygments_lexer": "ipython3",
   "version": "3.8.12"
  }
 },
 "nbformat": 4,
 "nbformat_minor": 5
}
