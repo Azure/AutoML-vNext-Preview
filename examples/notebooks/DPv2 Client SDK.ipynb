{
 "cells": [
  {
   "cell_type": "code",
   "execution_count": null,
   "id": "274c9fcf",
   "metadata": {},
   "outputs": [],
   "source": [
    "from azure.ml import MLClient"
   ]
  },
  {
   "cell_type": "code",
   "execution_count": null,
   "id": "40dbe6dd",
   "metadata": {},
   "outputs": [],
   "source": [
    "workspace_version_suffix=\"1638784934\"\n",
    "component_dataset_version_suffix=\"1638365672\""
   ]
  },
  {
   "cell_type": "code",
   "execution_count": null,
   "id": "384abeef",
   "metadata": {},
   "outputs": [],
   "source": [
    "#Enter details of your AML workspace\n",
    "subscription_id = '589c7ae9-223e-45e3-a191-98433e0821a9'\n",
    "resource_group = f'amlisdkv2-rg-{workspace_version_suffix}'\n",
    "workspace = f'amlisdkv2{workspace_version_suffix}'"
   ]
  },
  {
   "cell_type": "code",
   "execution_count": null,
   "id": "d6fe7bbe",
   "metadata": {},
   "outputs": [],
   "source": [
    "#get a handle to the workspace\n",
    "from azure.identity import DefaultAzureCredential\n",
    "ml_client = MLClient(credential=DefaultAzureCredential(exclude_shared_token_cache_credential=True),\n",
    "                     subscription_id=subscription_id,\n",
    "                     resource_group_name=resource_group,\n",
    "                     workspace_name=workspace,\n",
    "                     logging_enable=True)"
   ]
  },
  {
   "cell_type": "code",
   "execution_count": null,
   "id": "87ca824a",
   "metadata": {},
   "outputs": [],
   "source": [
    "# Get to work on our actual SDK\n",
    "from azure_ml_rai._list_rai_runs import list_rai_insights"
   ]
  },
  {
   "cell_type": "code",
   "execution_count": null,
   "id": "87e8be46",
   "metadata": {},
   "outputs": [],
   "source": [
    "experiment_name = 'Classification_from_Python_1638793014'"
   ]
  },
  {
   "cell_type": "code",
   "execution_count": null,
   "id": "ce726b41",
   "metadata": {},
   "outputs": [],
   "source": [
    "# We should have had one RAI insight created inside this particular pipeline Job\n",
    "\n",
    "run_ids = list_rai_insights(\n",
    "    ml_client,\n",
    "    experiment_name\n",
    ")\n",
    "\n",
    "print(run_ids)"
   ]
  },
  {
   "cell_type": "code",
   "execution_count": null,
   "id": "962bb187",
   "metadata": {},
   "outputs": [],
   "source": [
    "from azure_ml_rai._list_rai_runs import list_components_for_rai_insight"
   ]
  },
  {
   "cell_type": "code",
   "execution_count": null,
   "id": "d3fc1587",
   "metadata": {},
   "outputs": [],
   "source": [
    "# And this particular RAI Insight should have one of each of our four components\n",
    "\n",
    "component_run_ids = list_components_for_rai_insight(\n",
    "    ml_client,\n",
    "    experiment_name,\n",
    "    rai_insight_id = run_ids[0]\n",
    ")\n",
    "\n",
    "print(component_run_ids)"
   ]
  },
  {
   "cell_type": "code",
   "execution_count": null,
   "id": "780f19e8",
   "metadata": {},
   "outputs": [],
   "source": [
    "# See about doing a download\n",
    "from azure_ml_rai._download_rai_insights import download_rai_insights"
   ]
  },
  {
   "cell_type": "code",
   "execution_count": null,
   "id": "c8bb24f2",
   "metadata": {},
   "outputs": [],
   "source": [
    "destination_dir = \"my_insight\""
   ]
  },
  {
   "cell_type": "markdown",
   "id": "3c40e9e0",
   "metadata": {},
   "source": [
    "Try calling the download API"
   ]
  },
  {
   "cell_type": "code",
   "execution_count": null,
   "id": "71c8db2f",
   "metadata": {},
   "outputs": [],
   "source": [
    "download_rai_insights(\n",
    "    ml_client,\n",
    "    rai_insight_id=run_ids[0],\n",
    "    path=destination_dir\n",
    ")"
   ]
  },
  {
   "cell_type": "markdown",
   "id": "803986e6",
   "metadata": {},
   "source": [
    "See if it can instantiate an `RAIInsights` object"
   ]
  },
  {
   "cell_type": "code",
   "execution_count": null,
   "id": "d778e842",
   "metadata": {},
   "outputs": [],
   "source": [
    "from responsibleai import RAIInsights"
   ]
  },
  {
   "cell_type": "code",
   "execution_count": null,
   "id": "6fcf73f7",
   "metadata": {},
   "outputs": [],
   "source": [
    "rai_i = RAIInsights.load('my_insight')"
   ]
  },
  {
   "cell_type": "code",
   "execution_count": null,
   "id": "8e72dcad",
   "metadata": {},
   "outputs": [],
   "source": [
    "rai_i.explainer.list()"
   ]
  },
  {
   "cell_type": "code",
   "execution_count": null,
   "id": "f80e09a1",
   "metadata": {},
   "outputs": [],
   "source": [
    "cr = rai_i.causal.get()[0]\n",
    "dir(cr)\n",
    "cr.global_effects"
   ]
  },
  {
   "cell_type": "markdown",
   "id": "4383e54a",
   "metadata": {},
   "source": [
    "Now try to fire up the dashboard itself"
   ]
  },
  {
   "cell_type": "code",
   "execution_count": null,
   "id": "026136fa",
   "metadata": {},
   "outputs": [],
   "source": [
    "from raiwidgets import ResponsibleAIDashboard"
   ]
  },
  {
   "cell_type": "code",
   "execution_count": null,
   "id": "80df9c72",
   "metadata": {},
   "outputs": [],
   "source": [
    "ResponsibleAIDashboard(rai_i)"
   ]
  },
  {
   "cell_type": "code",
   "execution_count": null,
   "id": "4566d022",
   "metadata": {},
   "outputs": [],
   "source": []
  }
 ],
 "metadata": {
  "kernelspec": {
   "display_name": "Python 3",
   "language": "python",
   "name": "python3"
  },
  "language_info": {
   "codemirror_mode": {
    "name": "ipython",
    "version": 3
   },
   "file_extension": ".py",
   "mimetype": "text/x-python",
   "name": "python",
   "nbconvert_exporter": "python",
   "pygments_lexer": "ipython3",
   "version": "3.8.12"
  }
 },
 "nbformat": 4,
 "nbformat_minor": 5
}
